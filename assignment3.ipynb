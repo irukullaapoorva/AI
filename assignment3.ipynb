{
  "nbformat": 4,
  "nbformat_minor": 0,
  "metadata": {
    "colab": {
      "name": "assignment3.ipynb",
      "provenance": [],
      "collapsed_sections": [],
      "authorship_tag": "ABX9TyNmdLzFpVTAdzlFfzxjkKoG",
      "include_colab_link": true
    },
    "kernelspec": {
      "name": "python3",
      "display_name": "Python 3"
    }
  },
  "cells": [
    {
      "cell_type": "markdown",
      "metadata": {
        "id": "view-in-github",
        "colab_type": "text"
      },
      "source": [
        "<a href=\"https://colab.research.google.com/github/irukullaapoorva/AI/blob/main/assignment3.ipynb\" target=\"_parent\"><img src=\"https://colab.research.google.com/assets/colab-badge.svg\" alt=\"Open In Colab\"/></a>"
      ]
    },
    {
      "cell_type": "code",
      "metadata": {
        "colab": {
          "base_uri": "https://localhost:8080/"
        },
        "id": "T0P_6w7FcT5_",
        "outputId": "67e60219-9c54-482e-f766-d63fc38b6d7f"
      },
      "source": [
        "import numpy as np\n",
        "import math as m\n",
        "\n",
        "x = np.random.uniform(-12,12)\n",
        "y = np.random.uniform(-12,12)\n",
        "\n",
        "eta = 0.003\n",
        "iterations = 10000\n",
        "\n",
        "for i in range(iterations):\n",
        "    gradx = 6*x\n",
        "    grady = -5*m.exp(-y)\n",
        "    stepx = -eta*gradx\n",
        "    stepy = -eta*grady\n",
        "    x += stepx\n",
        "    y += stepy\n",
        "\n",
        "x = round(x)\n",
        "y = round(y)\n",
        "\n",
        "print(f'The value of x,y : ', x, y)\n",
        "print(f'Minimum Value of f(x,y) : ', (3*x**2)+(5*m.exp(-y))+10 )"
      ],
      "execution_count": 6,
      "outputs": [
        {
          "output_type": "stream",
          "name": "stdout",
          "text": [
            "The value of x,y :  0 5\n",
            "Minimum Value of f(x,y) :  10.033689734995427\n"
          ]
        }
      ]
    }
  ]
}