{
  "nbformat": 4,
  "nbformat_minor": 0,
  "metadata": {
    "colab": {
      "name": "assignment1.ipynb",
      "provenance": [],
      "authorship_tag": "ABX9TyOyJ9BGVi1SpIWMz3GG0ejg",
      "include_colab_link": true
    },
    "kernelspec": {
      "name": "python3",
      "display_name": "Python 3"
    },
    "language_info": {
      "name": "python"
    }
  },
  "cells": [
    {
      "cell_type": "markdown",
      "metadata": {
        "id": "view-in-github",
        "colab_type": "text"
      },
      "source": [
        "<a href=\"https://colab.research.google.com/github/irukullaapoorva/AI/blob/main/assignment1.ipynb\" target=\"_parent\"><img src=\"https://colab.research.google.com/assets/colab-badge.svg\" alt=\"Open In Colab\"/></a>"
      ]
    },
    {
      "cell_type": "code",
      "metadata": {
        "colab": {
          "base_uri": "https://localhost:8080/"
        },
        "id": "EXBEaSlAIr1M",
        "outputId": "30add472-366a-4783-cb47-a43bea6c4027"
      },
      "source": [
        "from scipy.optimize import linprog\n",
        "obj=[-50,-120]\n",
        "a_ieq=[[7000,2000],[10,30]]\n",
        "b_ieq=[700000,1200]\n",
        "boundary=[(0,float('inf')),(0,float('inf'))]\n",
        "opt=linprog(c=obj, A_ub=a_ieq, b_ub=b_ieq, A_eq=None, b_eq=None, bounds=boundary, method='simplex')\n",
        "opt.x\n",
        "print('no.of hectares required for wheat=', round(opt.x[0]))\n",
        "print('no.of hectares required for wheat=', round(opt.x[1]))\n",
        "print( round((opt.x[0]*50) +(opt.x[1]*120)))"
      ],
      "execution_count": null,
      "outputs": [
        {
          "output_type": "stream",
          "text": [
            "no.of hectares required for wheat= 98\n",
            "no.of hectares required for wheat= 7\n",
            "5779\n"
          ],
          "name": "stdout"
        }
      ]
    }
  ]
}