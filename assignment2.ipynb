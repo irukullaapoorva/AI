{
  "nbformat": 4,
  "nbformat_minor": 0,
  "metadata": {
    "colab": {
      "name": "assignment2.ipynb",
      "provenance": [],
      "collapsed_sections": [],
      "authorship_tag": "ABX9TyNmuNpUHVZWH0JE/+vBRP5N",
      "include_colab_link": true
    },
    "kernelspec": {
      "name": "python3",
      "display_name": "Python 3"
    }
  },
  "cells": [
    {
      "cell_type": "markdown",
      "metadata": {
        "id": "view-in-github",
        "colab_type": "text"
      },
      "source": [
        "<a href=\"https://colab.research.google.com/github/irukullaapoorva/AI/blob/main/assignment2.ipynb\" target=\"_parent\"><img src=\"https://colab.research.google.com/assets/colab-badge.svg\" alt=\"Open In Colab\"/></a>"
      ]
    },
    {
      "cell_type": "code",
      "metadata": {
        "colab": {
          "base_uri": "https://localhost:8080/"
        },
        "id": "T0P_6w7FcT5_",
        "outputId": "f53d302d-9193-4a00-9807-90a75e4b483a"
      },
      "source": [
        "import numpy as np\n",
        "\n",
        "x = np.random.uniform(-10,10)\n",
        "\n",
        "eta = 0.002\n",
        "iterations = 8000\n",
        "\n",
        "for i in range(iterations):\n",
        "    gradx = 4 * (x**3) + 6*x\n",
        "    stepx = -eta*gradx\n",
        "    x += stepx\n",
        "\n",
        "x = round(x)\n",
        "print(f'The value of x is : ', x)\n",
        "print(f'Minimum Value of f(x) : ', (x**4)+3*x**2+10 )"
      ],
      "execution_count": 3,
      "outputs": [
        {
          "output_type": "stream",
          "name": "stdout",
          "text": [
            "The value of x is :  0\n",
            "Minimum Value of f(x) :  10\n"
          ]
        }
      ]
    }
  ]
}